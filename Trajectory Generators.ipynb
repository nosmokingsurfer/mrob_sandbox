{
 "cells": [
  {
   "cell_type": "code",
   "execution_count": 1,
   "metadata": {},
   "outputs": [
    {
     "name": "stderr",
     "output_type": "stream",
     "text": [
      "\n",
      "Bad key \"text.kerning_factor\" on line 4 in\n",
      "/home/nosmokingsurfer/miniconda3/envs/lyft_env/lib/python3.6/site-packages/matplotlib/mpl-data/stylelib/_classic_test_patch.mplstyle.\n",
      "You probably need to get an updated matplotlibrc file from\n",
      "http://github.com/matplotlib/matplotlib/blob/master/matplotlibrc.template\n",
      "or from the matplotlib source distribution\n"
     ]
    }
   ],
   "source": [
    "import pandas as pd\n",
    "import plotly\n",
    "import mrob\n",
    "import numpy as np\n",
    "import scipy\n",
    "import scipy.signal\n",
    "\n",
    "import matplotlib.pyplot as plt"
   ]
  },
  {
   "cell_type": "markdown",
   "metadata": {},
   "source": [
    "## Acceleration along x axis"
   ]
  },
  {
   "cell_type": "code",
   "execution_count": 2,
   "metadata": {},
   "outputs": [],
   "source": [
    "time = np.arange(0,50, step=0.005)\n",
    "\n",
    "trajectory = np.zeros((len(time),6 + 3 +3))\n",
    "\n",
    "trajectory.shape\n",
    "\n",
    "acc = 0.5 # g's\n",
    "\n",
    "# acc noise\n",
    "\n",
    "acc_measurement_noise = scipy.stats.norm(loc=0, scale=0.01).rvs(len(trajectory))\n",
    "\n",
    "\n",
    "# motion noise\n",
    "sigma = np.diag([0.1,0.01,0.01,0.1,0.1,0.1])\n",
    "normal_noise = scipy.stats.multivariate_normal(cov=sigma)\n",
    "noise = normal_noise.rvs(len(trajectory))\n",
    "\n",
    "\n",
    "\n",
    "\n",
    "for i in range(len(trajectory)):\n",
    "    acc_noise = np.random.rand()\n",
    "    tmp = mrob.geometry.SE3([0,0,0,acc*time[i]**2/2,0,0])\n",
    "    tmp.update_lhs(noise[i])\n",
    "    \n",
    "    trajectory[i][3] = tmp.Ln()[3]\n",
    "    trajectory[i][6] = acc + acc_measurement_noise[i]"
   ]
  },
  {
   "cell_type": "code",
   "execution_count": 3,
   "metadata": {},
   "outputs": [],
   "source": [
    "df = pd.DataFrame(trajectory, columns=['yaw', 'pitch','roll','x','y','z','acc_x', 'acc_y', 'acc_z', 'omega_x', 'omega_y','omega_z'])"
   ]
  },
  {
   "cell_type": "code",
   "execution_count": 4,
   "metadata": {},
   "outputs": [
    {
     "data": {
      "text/plain": [
       "<matplotlib.axes._subplots.AxesSubplot at 0x7efe7dba68d0>"
      ]
     },
     "execution_count": 4,
     "metadata": {},
     "output_type": "execute_result"
    },
    {
     "data": {
      "image/png": "[encoded data removed]",
      "text/plain": [
       "<Figure size 432x288 with 1 Axes>"
      ]
     },
     "metadata": {
      "needs_background": "light"
     },
     "output_type": "display_data"
    }
   ],
   "source": [
    "df.x.plot()"
   ]
  },
  {
   "cell_type": "code",
   "execution_count": 5,
   "metadata": {},
   "outputs": [
    {
     "data": {
      "text/plain": [
       "<matplotlib.axes._subplots.AxesSubplot at 0x7efe75b1cb00>"
      ]
     },
     "execution_count": 5,
     "metadata": {},
     "output_type": "execute_result"
    },
    {
     "data": {
      "image/png": "[encoded data removed]",
      "text/plain": [
       "<Figure size 432x288 with 1 Axes>"
      ]
     },
     "metadata": {
      "needs_background": "light"
     },
     "output_type": "display_data"
    }
   ],
   "source": [
    "df.acc_x.plot()"
   ]
  },
  {
   "cell_type": "code",
   "execution_count": 6,
   "metadata": {},
   "outputs": [],
   "source": [
    "df = df.set_index(time)\n",
    "df.index.name='time[sec]'"
   ]
  },
  {
   "cell_type": "code",
   "execution_count": 7,
   "metadata": {},
   "outputs": [
    {
     "data": {
      "text/plain": [
       "10000"
      ]
     },
     "execution_count": 7,
     "metadata": {},
     "output_type": "execute_result"
    }
   ],
   "source": [
    "len(df)"
   ]
  },
  {
   "cell_type": "code",
   "execution_count": 8,
   "metadata": {},
   "outputs": [],
   "source": [
    "df.to_csv('acceleration_along_straigt_line.csv')"
   ]
  },
  {
   "cell_type": "markdown",
   "metadata": {},
   "source": [
    "# Accelerating on a circle"
   ]
  },
  {
   "cell_type": "code",
   "execution_count": 9,
   "metadata": {},
   "outputs": [],
   "source": [
    "time = np.arange(0,50, step=0.5)\n",
    "trajectory = np.zeros((len(time),6 + 3 +3))\n",
    "\n",
    "trajectory.shape\n",
    "\n",
    "acc = 0.05 # g's\n",
    "R = 5\n",
    "\n",
    "# acc noise\n",
    "acc_measurement_noise_x = scipy.stats.norm(loc=0, scale=0.01).rvs(len(trajectory))\n",
    "acc_measurement_noise_y = scipy.stats.norm(loc=0, scale=0.01).rvs(len(trajectory))\n",
    "\n",
    "\n",
    "# motion noise\n",
    "sigma = np.diag([0.1,0.01,0.01,0.1,0.1,0.1])\n",
    "normal_noise = scipy.stats.multivariate_normal(cov=sigma)\n",
    "noise = normal_noise.rvs(len(trajectory))\n",
    "\n",
    "\n",
    "for i in range(len(trajectory)):\n",
    "    acc_noise = np.random.rand(1)\n",
    "    yaw = acc*time[i]**2/(2*R)\n",
    "    tmp = mrob.geometry.SE3([np.mod(yaw+np.pi,np.pi)-np.pi ,0,0,R*np.cos(yaw),R*np.sin(yaw),0])\n",
    "#     tmp.update_lhs(noise[i])\n",
    "    \n",
    "    trajectory[i][:6] = tmp.Ln()\n",
    "    \n",
    "    V = acc*time[i]\n",
    "    omega = V/R\n",
    "    \n",
    "    #acc_x in sensor frame\n",
    "    trajectory[i][6] = -R*omega**2 + acc_measurement_noise_x[i]\n",
    "    #acc_y in sensor frame\n",
    "    trajectory[i][7] = acc + acc_measurement_noise_y[i]\n",
    "    \n",
    "    #omega_z\n",
    "    trajectory[i][11] = acc*time[i]/R"
   ]
  },
  {
   "cell_type": "code",
   "execution_count": 10,
   "metadata": {},
   "outputs": [],
   "source": [
    "df = pd.DataFrame(trajectory, columns=['yaw', 'pitch','roll','x','y','z','acc_x', 'acc_y', 'acc_z', 'omega_x', 'omega_y','omega_z'])"
   ]
  },
  {
   "cell_type": "code",
   "execution_count": 11,
   "metadata": {},
   "outputs": [
    {
     "data": {
      "text/plain": [
       "[<matplotlib.lines.Line2D at 0x7efe75a36f28>]"
      ]
     },
     "execution_count": 11,
     "metadata": {},
     "output_type": "execute_result"
    },
    {
     "data": {
      "image/png": "[encoded data removed]",
      "text/plain": [
       "<Figure size 432x288 with 1 Axes>"
      ]
     },
     "metadata": {
      "needs_background": "light"
     },
     "output_type": "display_data"
    }
   ],
   "source": [
    "plt.plot(df.x,df.y)"
   ]
  },
  {
   "cell_type": "code",
   "execution_count": 12,
   "metadata": {},
   "outputs": [
    {
     "data": {
      "text/plain": [
       "<matplotlib.axes._subplots.AxesSubplot at 0x7efe75a52dd8>"
      ]
     },
     "execution_count": 12,
     "metadata": {},
     "output_type": "execute_result"
    },
    {
     "data": {
      "image/png": "[encoded data removed]",
      "text/plain": [
       "<Figure size 432x288 with 1 Axes>"
      ]
     },
     "metadata": {
      "needs_background": "light"
     },
     "output_type": "display_data"
    }
   ],
   "source": [
    "df.omega_z.plot()"
   ]
  },
  {
   "cell_type": "code",
   "execution_count": 13,
   "metadata": {},
   "outputs": [],
   "source": [
    "df = df.set_index(time)\n",
    "df.index.name='time[sec]'\n",
    "df = pd.DataFrame(trajectory, columns=['yaw', 'pitch','roll','x','y','z','acc_x', 'acc_y', 'acc_z', 'omega_x', 'omega_y','omega_z'])"
   ]
  },
  {
   "cell_type": "code",
   "execution_count": 14,
   "metadata": {},
   "outputs": [],
   "source": [
    "df.to_csv('acceleration_along_circle.csv')"
   ]
  },
  {
   "cell_type": "markdown",
   "metadata": {},
   "source": [
    "# Accelerating along X and sin in Y direction"
   ]
  },
  {
   "cell_type": "markdown",
   "metadata": {},
   "source": [
    "['yaw', 'pitch','roll','x','y','z','acc_x', 'acc_y', 'acc_z', 'omega_x', 'omega_y','omega_z'])"
   ]
  },
  {
   "cell_type": "code",
   "execution_count": null,
   "metadata": {},
   "outputs": [],
   "source": [
    "trajectory = np.zeros((len(time),6 + 3 +3))\n",
    "\n",
    "trajectory.shape\n",
    "\n",
    "acc = 0.5 # g's\n",
    "\n",
    "# acc noise\n",
    "\n",
    "acc_measurement_noise = scipy.stats.norm(loc=0, scale=0.01).rvs(len(trajectory))\n",
    "\n",
    "\n",
    "# motion noise\n",
    "sigma = np.diag([0.1,0.01,0.01,0.1,0.1,0.1])\n",
    "normal_noise = scipy.stats.multivariate_normal(cov=sigma)\n",
    "noise = normal_noise.rvs(len(trajectory))\n",
    "\n",
    "\n",
    "for i in range(len(trajectory)):\n",
    "    acc_noise = np.random.rand()\n",
    "    tmp = mrob.geometry.SE3([0,0,0,acc*time[i]**2/2,0,0])\n",
    "    tmp.update_lhs(noise[i])\n",
    "    \n",
    "    trajectory[i][3] = tmp.Ln()[3]\n",
    "    trajectory[i][6] = acc + acc_measurement_noise[i]"
   ]
  }
 ],
 "metadata": {
  "kernelspec": {
   "display_name": "Python 3",
   "language": "python",
   "name": "python3"
  },
  "language_info": {
   "codemirror_mode": {
    "name": "ipython",
    "version": 3
   },
   "file_extension": ".py",
   "mimetype": "text/x-python",
   "name": "python",
   "nbconvert_exporter": "python",
   "pygments_lexer": "ipython3",
   "version": "3.6.10"
  }
 },
 "nbformat": 4,
 "nbformat_minor": 4
}
