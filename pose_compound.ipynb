{
 "cells": [
  {
   "cell_type": "code",
   "execution_count": 1,
   "metadata": {},
   "outputs": [
    {
     "data": {
      "text/html": [
       "<style>.container { width:100% !important; }</style>"
      ],
      "text/plain": [
       "<IPython.core.display.HTML object>"
      ]
     },
     "metadata": {},
     "output_type": "display_data"
    }
   ],
   "source": [
    "from IPython.core.display import display, HTML\n",
    "display(HTML(\"<style>.container { width:100% !important; }</style>\"))"
   ]
  },
  {
   "cell_type": "code",
   "execution_count": 2,
   "metadata": {},
   "outputs": [],
   "source": [
    "import matplotlib\n",
    "import matplotlib.pyplot as plt\n",
    "%matplotlib inline\n",
    "\n",
    "font = {'size': 22}\n",
    "\n",
    "matplotlib.rc('font', **font)\n",
    "\n",
    "import numpy as np\n",
    "import pandas as pd\n",
    "\n",
    "import scipy\n",
    "import scipy.stats\n",
    "import seaborn as sns\n",
    "\n",
    "import sklearn.datasets\n",
    "\n",
    "import mrob"
   ]
  },
  {
   "cell_type": "markdown",
   "metadata": {},
   "source": [
    "# Pose compounding"
   ]
  },
  {
   "cell_type": "code",
   "execution_count": 3,
   "metadata": {},
   "outputs": [
    {
     "data": {
      "text/plain": [
       "array([[1., 0., 0., 1.],\n",
       "       [0., 1., 0., 0.],\n",
       "       [0., 0., 1., 0.],\n",
       "       [0., 0., 0., 1.]])"
      ]
     },
     "execution_count": 3,
     "metadata": {},
     "output_type": "execute_result"
    }
   ],
   "source": [
    "T_1 = mrob.geometry.SE3([0,0,0,1,0,0])\n",
    "sigma_1 = np.diag([0,0,0.03**2,0,0,0])\n",
    "T_1.T()"
   ]
  },
  {
   "cell_type": "code",
   "execution_count": 4,
   "metadata": {},
   "outputs": [
    {
     "data": {
      "text/plain": [
       "array([[1., 0., 0., 0.],\n",
       "       [0., 1., 0., 1.],\n",
       "       [0., 0., 1., 0.],\n",
       "       [0., 0., 0., 1.]])"
      ]
     },
     "execution_count": 4,
     "metadata": {},
     "output_type": "execute_result"
    }
   ],
   "source": [
    "T_2 = mrob.geometry.SE3([0,0,0,0,1,0])\n",
    "sigma_2 = np.diag([0,0,0.03**2,0,0,0])\n",
    "T_2.T()"
   ]
  },
  {
   "cell_type": "markdown",
   "metadata": {},
   "source": [
    "## Second order"
   ]
  },
  {
   "cell_type": "code",
   "execution_count": 5,
   "metadata": {},
   "outputs": [],
   "source": [
    "T = T_1.mul(T_2)"
   ]
  },
  {
   "cell_type": "code",
   "execution_count": 6,
   "metadata": {},
   "outputs": [
    {
     "data": {
      "text/plain": [
       "array([[ 1.,  0.,  0.,  0.,  0.,  0.],\n",
       "       [ 0.,  1.,  0.,  0.,  0.,  0.],\n",
       "       [ 0.,  0.,  1.,  0.,  0.,  0.],\n",
       "       [ 0.,  0.,  0.,  1.,  0.,  0.],\n",
       "       [ 0.,  0., -1.,  0.,  1.,  0.],\n",
       "       [ 0.,  1.,  0.,  0.,  0.,  1.]])"
      ]
     },
     "execution_count": 6,
     "metadata": {},
     "output_type": "execute_result"
    }
   ],
   "source": [
    "T_1_adj = T_1.adj()\n",
    "T_1_adj"
   ]
  },
  {
   "cell_type": "code",
   "execution_count": 7,
   "metadata": {},
   "outputs": [
    {
     "ename": "NameError",
     "evalue": "name 'xi_2' is not defined",
     "output_type": "error",
     "traceback": [
      "\u001b[0;31m---------------------------------------------------------------------------\u001b[0m",
      "\u001b[0;31mNameError\u001b[0m                                 Traceback (most recent call last)",
      "\u001b[0;32m<ipython-input-7-9c5e474d2177>\u001b[0m in \u001b[0;36m<module>\u001b[0;34m\u001b[0m\n\u001b[0;32m----> 1\u001b[0;31m \u001b[0mxi_2_\u001b[0m \u001b[0;34m=\u001b[0m \u001b[0mT_1_adj\u001b[0m \u001b[0;34m@\u001b[0m \u001b[0mxi_2\u001b[0m\u001b[0;34m\u001b[0m\u001b[0;34m\u001b[0m\u001b[0m\n\u001b[0m\u001b[1;32m      2\u001b[0m \u001b[0mxi_2_\u001b[0m\u001b[0;34m\u001b[0m\u001b[0;34m\u001b[0m\u001b[0m\n",
      "\u001b[0;31mNameError\u001b[0m: name 'xi_2' is not defined"
     ]
    }
   ],
   "source": [
    "xi_2_ = T_1_adj @ xi_2\n",
    "xi_2_"
   ]
  },
  {
   "cell_type": "code",
   "execution_count": null,
   "metadata": {},
   "outputs": [],
   "source": [
    "sigma_2_ = T_1_adj@sigma_2@T_1_adj.transpose()"
   ]
  },
  {
   "cell_type": "code",
   "execution_count": null,
   "metadata": {},
   "outputs": [],
   "source": [
    "sigma = sigma_1 + sigma_2_"
   ]
  },
  {
   "cell_type": "code",
   "execution_count": null,
   "metadata": {},
   "outputs": [],
   "source": [
    "def compound_2nd(T1, sigma1, T2, sigma2):\n",
    "    T = T_1.mul(T_2)\n",
    "    T_1_adj = T_1.adj()\n",
    "    sigma_2_ = T_1_adj@sigma_2@T_1_adj.transpose()\n",
    "    sigma = sigma_1 + sigma_2_\n",
    "    return T, sigma"
   ]
  },
  {
   "cell_type": "code",
   "execution_count": null,
   "metadata": {},
   "outputs": [],
   "source": [
    "T, sigma = compound_2nd(T_1, sigma_2,T_2, sigma_2)"
   ]
  },
  {
   "cell_type": "code",
   "execution_count": null,
   "metadata": {},
   "outputs": [],
   "source": [
    "plt.figure(figsize=(8,8))\n",
    "sns.heatmap(sigma,annot=True)"
   ]
  },
  {
   "cell_type": "markdown",
   "metadata": {},
   "source": [
    "## Cholesky for block matrix"
   ]
  },
  {
   "cell_type": "code",
   "execution_count": null,
   "metadata": {},
   "outputs": [],
   "source": [
    "def cholesky(sigma):\n",
    "    condition =~ (np.all(sigma == 0, axis=1) & (np.all(sigma == 0, axis=0)))\n",
    "    m = [int(x) for x in condition]\n",
    "    counter = 0\n",
    "    res = []\n",
    "    for el in m:\n",
    "        if el > 0:\n",
    "            res.append(counter)\n",
    "            counter +=1\n",
    "        else:\n",
    "            res.append(None)\n",
    "    M = []    \n",
    "    for i in range(6):\n",
    "        tmp = []\n",
    "        for j in range(6):\n",
    "            tmp.append([res[i],res[j]])\n",
    "        \n",
    "        M.append(tmp)\n",
    "    M = np.array(M)\n",
    "    \n",
    "    block = (sigma[condition,:])[:,condition]\n",
    "\n",
    "    L = np.linalg.cholesky(block)\n",
    "    LL = np.zeros_like(sigma)\n",
    "    \n",
    "    for i in range(LL.shape[0]):\n",
    "        for j in range(LL.shape[1]):\n",
    "            if all(M[i,j] != None):\n",
    "                k = M[i,j][0]\n",
    "                l = M[i,j][1]\n",
    "            \n",
    "                LL[i,j] = L[k,l]\n",
    "        \n",
    "    return LL"
   ]
  },
  {
   "cell_type": "code",
   "execution_count": null,
   "metadata": {},
   "outputs": [],
   "source": []
  },
  {
   "cell_type": "code",
   "execution_count": null,
   "metadata": {},
   "outputs": [],
   "source": [
    "A = cholesky(sigma)\n",
    "print(A)"
   ]
  },
  {
   "cell_type": "code",
   "execution_count": null,
   "metadata": {},
   "outputs": [],
   "source": [
    "np.linalg.norm(sigma - A@A.transpose())"
   ]
  },
  {
   "cell_type": "code",
   "execution_count": null,
   "metadata": {},
   "outputs": [],
   "source": [
    "plt.figure(figsize=(10,10))\n",
    "sns.heatmap(A,annot=True)"
   ]
  },
  {
   "cell_type": "code",
   "execution_count": null,
   "metadata": {},
   "outputs": [],
   "source": [
    "N = 100\n",
    "error = 0\n",
    "for _ in range(N):\n",
    "    tmp = np.random.randn(6)+5\n",
    "    tmp[np.random.randint(0,6)] = 0\n",
    "    sigma = np.diag(tmp)\n",
    "    L = cholesky(sigma)\n",
    "    error += np.linalg.norm(sigma - L@L.transpose())\n",
    "\n",
    "print(\"Mean error: {}\".format(error/N))"
   ]
  },
  {
   "cell_type": "markdown",
   "metadata": {},
   "source": [
    "# Linear operators"
   ]
  },
  {
   "cell_type": "code",
   "execution_count": null,
   "metadata": {},
   "outputs": [],
   "source": [
    "def op1(A):\n",
    "    return -np.eye(A.shape[0])*A.trace() + A\n",
    "\n",
    "def op2(A,B):\n",
    "    return op1(A)@op1(B) + op1(B@A)"
   ]
  },
  {
   "cell_type": "markdown",
   "metadata": {},
   "source": [
    "# Fourth order"
   ]
  },
  {
   "cell_type": "code",
   "execution_count": null,
   "metadata": {},
   "outputs": [],
   "source": [
    "def compound_4th(T_1, sigma_1, T_2, sigma_2):\n",
    "    T, sigma = compound_2nd(T_1, sigma_1, T_2, sigma_2)\n",
    "    \n",
    "    sigma_1_rho_rho = sigma_1[3:, 3:]\n",
    "    sigma_1_rho_phi = sigma_1[3:, :3]\n",
    "    sigma_1_phi_phi = sigma_1[:3, :3]\n",
    "    \n",
    "    T_1_adj = T_1.adj()\n",
    "    \n",
    "    _sigma_2 = T_1_adj @ sigma_2 @ T_1_adj.transpose()\n",
    "    \n",
    "    _sigma_2_rho_rho = _sigma_2[3:, 3:]\n",
    "    _sigma_2_rho_phi = _sigma_2[3:, :3]\n",
    "    _sigma_2_phi_phi = _sigma_2[:3, :3]\n",
    "    \n",
    "    A_1 = np.zeros((6,6))\n",
    "    A_1[:3, :3] = op1(sigma_1_phi_phi)\n",
    "    A_1[:3, 3:] = op1(sigma_1_rho_phi + sigma_1_rho_phi.transpose())\n",
    "    A_1[3:, 3:] = op1(sigma_1_phi_phi)\n",
    "    \n",
    "    _A_2 = np.zeros((6,6))\n",
    "    _A_2[:3, :3] = op1(_sigma_2_rho_rho)\n",
    "    _A_2[:3, 3:] = op1(_sigma_2_rho_phi + _sigma_2_rho_phi.transpose())\n",
    "    _A_2[3:, 3:] = op1(_sigma_2_phi_phi)\n",
    "    \n",
    "    B_rho_rho = op2(sigma_1_phi_phi, _sigma_2_rho_rho) + \\\n",
    "        op2(sigma_1_rho_phi.transpose(), _sigma_2_rho_phi) + \\\n",
    "        op2(sigma_1_rho_phi,_sigma_2_rho_phi.transpose()) + \\\n",
    "        op2(sigma_1_rho_rho, _sigma_2_phi_phi)\n",
    "    \n",
    "    B_rho_phi = op2(sigma_1_phi_phi,_sigma_2_rho_phi.transpose()) + \\\n",
    "        op2(sigma_1_rho_phi.transpose(),_sigma_2_phi_phi)\n",
    "    \n",
    "    B_phi_phi = op2(sigma_1_phi_phi, _sigma_2_phi_phi)\n",
    "    \n",
    "    B = np.array([[B_phi_phi, B_rho_phi],[B_rho_phi.transpose(), B_rho_rho]]).reshape((6,6))\n",
    "    \n",
    "    sigma += 1/12*(A_1@_sigma_2 + \\\n",
    "                   _sigma_2@A_1.transpose() + \\\n",
    "                   _A_2@sigma_1 + \\\n",
    "                   sigma_1@ _A_2.transpose()) + 0.25*B\n",
    "    \n",
    "    return T, sigma\n",
    "    "
   ]
  },
  {
   "cell_type": "code",
   "execution_count": null,
   "metadata": {},
   "outputs": [],
   "source": [
    "T, sigma = compound_4th(T_1, sigma_1, T_2, sigma_2)"
   ]
  },
  {
   "cell_type": "code",
   "execution_count": null,
   "metadata": {},
   "outputs": [],
   "source": [
    "plt.figure(figsize=(10,10))\n",
    "sns.heatmap(sigma,annot=True)"
   ]
  },
  {
   "cell_type": "code",
   "execution_count": null,
   "metadata": {},
   "outputs": [],
   "source": []
  }
 ],
 "metadata": {
  "kernelspec": {
   "display_name": "Python 3",
   "language": "python",
   "name": "python3"
  },
  "language_info": {
   "codemirror_mode": {
    "name": "ipython",
    "version": 3
   },
   "file_extension": ".py",
   "mimetype": "text/x-python",
   "name": "python",
   "nbconvert_exporter": "python",
   "pygments_lexer": "ipython3",
   "version": "3.6.10"
  }
 },
 "nbformat": 4,
 "nbformat_minor": 4
}
