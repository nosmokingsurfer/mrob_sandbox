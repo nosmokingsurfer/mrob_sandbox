{
 "cells": [
  {
   "cell_type": "code",
   "execution_count": null,
   "metadata": {
    "colab": {
     "base_uri": "https://localhost:8080/"
    },
    "id": "cIwuyLPwGbEw",
    "outputId": "b5ec7218-dc0b-40aa-e0ab-aa6076408a83"
   },
   "outputs": [],
   "source": [
    "from IPython.core.display import display, HTML\n",
    "display(HTML(\"<style>.container { width:100% !important; }</style>\"))"
   ]
  },
  {
   "cell_type": "code",
   "execution_count": null,
   "metadata": {
    "id": "cpGxPQQtGejI"
   },
   "outputs": [],
   "source": [
    "import mrob\n",
    "import numpy as np\n",
    "import matplotlib.pyplot as plt\n",
    "import pandas as pd\n",
    "from tqdm.notebook import trange, tqdm\n",
    "from scipy.optimize import minimize\n",
    "import functools\n",
    "from tqdm import tqdm_notebook\n",
    "\n",
    "import warnings\n",
    "warnings.filterwarnings(\"ignore\")"
   ]
  },
  {
   "cell_type": "markdown",
   "metadata": {
    "id": "0r3Y0MCIHjq_"
   },
   "source": [
    "#1. Straight line"
   ]
  },
  {
   "cell_type": "code",
   "execution_count": null,
   "metadata": {
    "id": "2XmMx2CqGhAv"
   },
   "outputs": [],
   "source": [
    "data_straight = pd.read_csv(\"acceleration_along_straigt_line.csv\")"
   ]
  },
  {
   "cell_type": "code",
   "execution_count": null,
   "metadata": {
    "id": "iiarauLTGiMu"
   },
   "outputs": [],
   "source": [
    "class IMU:\n",
    "    def __init__(self, start_R, start_v, start_p, g=9.81):\n",
    "        self.R = start_R\n",
    "        self.v = start_v\n",
    "        self.p = start_p\n",
    "        # self.g = np.array([0, 0, g])\n",
    "        self.R_history, self.v_history, self.p_history = [], [], []\n",
    "\n",
    "    def integrate(self, omega, a, dt):\n",
    "        rotation = mrob.geometry.SO3(omega * dt)\n",
    "        R = self.R.mul(rotation)\n",
    "        v = self.v + self.R.R() @ (a * dt) # + self.g * dt \n",
    "        p = self.p + self.v * dt + 1/2 * self.R.R() @ (a * (dt ** 2)) #  1/2 * self.g * (dt ** 2)\n",
    "        self.R = R \n",
    "        self.v = v \n",
    "        self.p = p\n",
    "        self.R_history.append(R)\n",
    "        self.v_history.append(v)\n",
    "        self.p_history.append(p)\n",
    "\n",
    "        return R, v, p\n",
    "\n",
    "    def get_history(self):\n",
    "        return self.R_history, self.v_history, self.p_history\n"
   ]
  },
  {
   "cell_type": "code",
   "execution_count": null,
   "metadata": {
    "id": "MYO-aoqBGjY3"
   },
   "outputs": [],
   "source": [
    "dt = np.ones(data_straight.shape[0]) * 0.005\n",
    "angle_v = np.array(data_straight[['yaw', 'pitch', 'roll']])\n",
    "angle_a = np.array(data_straight[['acc_x', 'acc_y', 'acc_z']])\n",
    "gt_positions = np.array(data_straight[['x', 'y', 'z']])\n",
    "gt_quat = np.array(data_straight[['yaw', 'pitch', 'roll', 'z']])"
   ]
  },
  {
   "cell_type": "code",
   "execution_count": null,
   "metadata": {
    "id": "wrD7joyjGkdP"
   },
   "outputs": [],
   "source": [
    "imu_straight = IMU(mrob.geometry.SO3(np.eye(3)), angle_v[0], np.zeros(3))\n",
    "for i in range(angle_v.shape[0]):\n",
    "    imu_straight.integrate(angle_v[i], angle_a[i], dt[i])"
   ]
  },
  {
   "cell_type": "code",
   "execution_count": null,
   "metadata": {
    "id": "HIjcEEcFJn4X"
   },
   "outputs": [],
   "source": [
    "from numpy.linalg import norm\n",
    "\n",
    "error = norm(np.array(data_straight['x']) - np.array(imu_straight.p_history)[:, 0])/np.array(data_straight['x']).shape[0]"
   ]
  },
  {
   "cell_type": "markdown",
   "metadata": {
    "id": "ZZhhniYBWldr"
   },
   "source": [
    "MSE: "
   ]
  },
  {
   "cell_type": "code",
   "execution_count": null,
   "metadata": {
    "colab": {
     "base_uri": "https://localhost:8080/"
    },
    "id": "hMxgzR7CVy5c",
    "outputId": "848960de-28af-418c-d863-a47d50217bc2"
   },
   "outputs": [],
   "source": [
    "np.sqrt(error)"
   ]
  },
  {
   "cell_type": "code",
   "execution_count": null,
   "metadata": {
    "colab": {
     "base_uri": "https://localhost:8080/",
     "height": 515
    },
    "id": "XVNyIeMoHp2v",
    "outputId": "7ca22bb0-d185-4e72-e35a-9efd2132f0d7"
   },
   "outputs": [],
   "source": [
    "plt.figure(figsize=(12, 8))\n",
    "plt.plot(np.array(imu_straight.p_history)[:, 0][:1000], linewidth=3, label=\"estimated trajectory\");\n",
    "plt.title(r\"Straight trajectory estimation ($\\epsilon = {}$)\".format(np.round(error, 3)))\n",
    "plt.plot(data_straight['x'][:1000], linewidth=1, label=\"ground trajectory\");\n",
    "plt.xlabel(r\"$x$\");\n",
    "plt.ylabel(r\"$y$\");\n",
    "plt.legend();"
   ]
  },
  {
   "cell_type": "markdown",
   "metadata": {
    "id": "FSa3YizzLZ72"
   },
   "source": [
    "# 2. Circular line"
   ]
  },
  {
   "cell_type": "code",
   "execution_count": null,
   "metadata": {
    "id": "QtsKVyZMHNSP"
   },
   "outputs": [],
   "source": [
    "data_circle = pd.read_csv(\"acceleration_along_circle.csv\")"
   ]
  },
  {
   "cell_type": "code",
   "execution_count": null,
   "metadata": {
    "colab": {
     "base_uri": "https://localhost:8080/",
     "height": 399
    },
    "id": "9pYNkfO6LgU3",
    "outputId": "be74c25c-d2a9-40fc-d7a9-e405bb7e306a"
   },
   "outputs": [],
   "source": [
    "data_circle"
   ]
  },
  {
   "cell_type": "code",
   "execution_count": null,
   "metadata": {
    "id": "kxKdWk_NMGMF"
   },
   "outputs": [],
   "source": [
    "dt = np.ones(data_circle.shape[0]) * 0.005\n",
    "angle_v = np.array(data_circle[['omega_x', 'omega_y', 'omega_z']])\n",
    "angle_a = np.array(data_circle[['acc_x', 'acc_y', 'acc_z']])"
   ]
  },
  {
   "cell_type": "code",
   "execution_count": null,
   "metadata": {
    "id": "m_NgfaKvMOXV"
   },
   "outputs": [],
   "source": [
    "imu_circular = IMU(mrob.geometry.SO3(np.eye(3)), np.array(data_circle[['omega_x', 'omega_y', 'omega_z']].iloc[0]), np.array(data_circle[['x', 'y', 'z']].iloc[0]))\n",
    "for i in range(angle_v.shape[0]):\n",
    "    imu_circular.integrate(angle_v[i], angle_a[i], dt[i])\n",
    "\n",
    "Rs = [R.R() for R in imu_circular.R_history]\n",
    "ps = imu_circular.p_history = np.array(imu_circular.p_history)"
   ]
  },
  {
   "cell_type": "code",
   "execution_count": null,
   "metadata": {
    "colab": {
     "base_uri": "https://localhost:8080/",
     "height": 283
    },
    "id": "1e93h8Uye6oy",
    "outputId": "759884cd-6c69-4541-98e3-d161454a972b"
   },
   "outputs": [],
   "source": [
    "plt.plot(data_circle.x)"
   ]
  },
  {
   "cell_type": "code",
   "execution_count": null,
   "metadata": {
    "colab": {
     "base_uri": "https://localhost:8080/",
     "height": 283
    },
    "id": "_QMtc0cjj0xa",
    "outputId": "2a0cabe8-cab1-4490-9795-1d1a938682af"
   },
   "outputs": [],
   "source": [
    "plt.plot(ps[:, 0], ps[:, 1])"
   ]
  },
  {
   "cell_type": "code",
   "execution_count": null,
   "metadata": {
    "colab": {
     "base_uri": "https://localhost:8080/"
    },
    "id": "dU0kc1Jol8vh",
    "outputId": "7b85cd59-c8fe-46a0-d85d-69e81267a3e3"
   },
   "outputs": [],
   "source": [
    "ps"
   ]
  },
  {
   "cell_type": "code",
   "execution_count": null,
   "metadata": {
    "id": "n3h2Wy_MJDhZ"
   },
   "outputs": [],
   "source": [
    "import plotly.express as px\n",
    "\n",
    "\n",
    "\n",
    "df = pd.DataFrame(ps,columns=['x','y','z'])\n",
    "\n",
    "fig = px.line_3d(data_frame=df,x='x',y='y',z='z',height=1100, title='Intgrated circle trajectory')\n",
    "fig.show()"
   ]
  },
  {
   "cell_type": "code",
   "execution_count": null,
   "metadata": {},
   "outputs": [],
   "source": [
    "import sys\n",
    "sys.path.append(\".\")\n",
    "\n",
    "from uncertainty import sigma_visualize_3d, get_mc"
   ]
  },
  {
   "cell_type": "code",
   "execution_count": null,
   "metadata": {
    "scrolled": false
   },
   "outputs": [],
   "source": [
    "T_0 = mrob.geometry.SE3()\n",
    "sigma_0 = np.diag([0.1,0.1,0.1,0.1,0.1,0.1])\n",
    "mean = np.zeros(6)\n",
    "\n",
    "\n",
    "axes, circumferences = sigma_visualize_3d(T_0,sigma_0,N = 100, K = 3)\n",
    "\n",
    "df = pd.DataFrame(columns=['x','y','z'])\n",
    "\n",
    "for key,val in axes.items():\n",
    "    tmp = pd.DataFrame(val,columns=['x','y','z'])\n",
    "    tmp['label'] = key\n",
    "    df = pd.concat([df,tmp])\n",
    "\n",
    "for key,val in circumferences.items():\n",
    "    tmp = pd.DataFrame(val,columns=['x','y','z'])\n",
    "    tmp['label'] = key\n",
    "    df = pd.concat([df,tmp])\n",
    "\n",
    "fig = px.line_3d(data_frame=df,x='x',y='y',z='z',color='label',hover_name='label',height=800,title='6D Pose Uncertainty Projected into 3D space.')\n",
    "\n",
    "poses, xi = get_mc(T_0, sigma_0, mean,N=1_000)\n",
    "\n",
    "particles = pd.DataFrame(poses, columns=['x','y','z'])\n",
    "\n",
    "fig.add_scatter3d(x=particles['x'],y=particles['y'],z=particles['z'],opacity=0.5,mode='markers',marker={'size':3})\n",
    "\n",
    "fig.show()"
   ]
  },
  {
   "cell_type": "code",
   "execution_count": null,
   "metadata": {},
   "outputs": [],
   "source": [
    "T_0 = mrob.geometry.SE3([0.5,0.0,np.pi,10,0.1,-0.3])\n",
    "sigma_0 = np.diag([0.3,0.01,0.31,0.4,0.4,0.1])\n",
    "\n",
    "\n",
    "mean = np.zeros(6)\n",
    "\n",
    "\n",
    "axes, circumferences = sigma_visualize_3d(T_0,sigma_0,N = 100, K = 3)\n",
    "\n",
    "df = pd.DataFrame(columns=['x','y','z'])\n",
    "\n",
    "for key,val in axes.items():\n",
    "    tmp = pd.DataFrame(val,columns=['x','y','z'])\n",
    "    tmp['label'] = key\n",
    "    df = pd.concat([df,tmp])\n",
    "\n",
    "for key,val in circumferences.items():\n",
    "    tmp = pd.DataFrame(val,columns=['x','y','z'])\n",
    "    tmp['label'] = key\n",
    "    df = pd.concat([df,tmp])\n",
    "\n",
    "fig = px.line_3d(data_frame=df,x='x',y='y',z='z',color='label',hover_name='label',height=1000,title='6D Pose Uncertainty Projected into 3D space')\n",
    "\n",
    "poses, xi = get_mc(T_0, sigma_0, mean,N=1_0000)\n",
    "\n",
    "particles = pd.DataFrame(poses, columns=['x','y','z'])\n",
    "\n",
    "fig.add_scatter3d(x=particles['x'],y=particles['y'],z=particles['z'],opacity=0.5,mode='markers',marker={'size':3,'color':\"rgb(155,25,53)\"})\n",
    "# fig.update_layout(scene = dict(aspectmode='manual', aspectratio=dict(x=1, y=1, z=1),\n",
    "#                               xaxis = dict(nticks=4, range=[-12,12],),\n",
    "#                  yaxis = dict(nticks=4, range=[-12,12],),\n",
    "#                  zaxis = dict(nticks=4, range=[-12,12],)))\n",
    "fig.update_layout(scene = dict(aspectmode='data', aspectratio=dict(x=1, y=1, z=1)))\n",
    "\n",
    "fig.show()"
   ]
  },
  {
   "cell_type": "code",
   "execution_count": null,
   "metadata": {},
   "outputs": [],
   "source": [
    "T_0 = mrob.geometry.SE3([0.5,1.0,1.0,10,0.1,-0.3])\n",
    "sigma_0 = np.diag([0.3,0.01,0.01,0.01,0.1,0.01])\n",
    "\n",
    "\n",
    "mean = np.zeros(6)\n",
    "\n",
    "\n",
    "axes, circumferences = sigma_visualize_3d(T_0,sigma_0,N = 100, K = 3)\n",
    "\n",
    "df = pd.DataFrame(columns=['x','y','z'])\n",
    "\n",
    "for key,val in axes.items():\n",
    "    tmp = pd.DataFrame(val,columns=['x','y','z'])\n",
    "    tmp['label'] = key\n",
    "    df = pd.concat([df,tmp])\n",
    "\n",
    "for key,val in circumferences.items():\n",
    "    tmp = pd.DataFrame(val,columns=['x','y','z'])\n",
    "    tmp['label'] = key\n",
    "    df = pd.concat([df,tmp])\n",
    "\n",
    "fig = px.line_3d(data_frame=df,x='x',y='y',z='z',color='label',hover_name='label',height=1000,title='6D Pose Uncertainty Projected into 3D space')\n",
    "\n",
    "poses, xi = get_mc(T_0, sigma_0, mean,N=1_0000)\n",
    "\n",
    "particles = pd.DataFrame(poses, columns=['x','y','z'])\n",
    "\n",
    "fig.add_scatter3d(x=particles['x'],y=particles['y'],z=particles['z'],opacity=0.5,mode='markers',marker={'size':3,'color':\"rgb(255,255,53)\"})\n",
    "# fig.update_layout(scene = dict(aspectmode='manual', aspectratio=dict(x=1, y=1, z=1),\n",
    "#                               xaxis = dict(nticks=4, range=[-12,12],),\n",
    "#                  yaxis = dict(nticks=4, range=[-12,12],),\n",
    "#                  zaxis = dict(nticks=4, range=[-12,12],)))\n",
    "fig.update_layout(scene = dict(aspectmode='data', aspectratio=dict(x=1, y=1, z=1)))\n",
    "\n",
    "fig.show()"
   ]
  },
  {
   "cell_type": "code",
   "execution_count": null,
   "metadata": {},
   "outputs": [],
   "source": [
    "def ellipsoid_dataframe(T,sigma,N = 100, K = 1):\n",
    "    axes, circumferences = sigma_visualize_3d(T=T,sigma=sigma,N = N, K = K)\n",
    "\n",
    "    df = pd.DataFrame(columns=['x','y','z'])\n",
    "\n",
    "    for key,val in axes.items():\n",
    "        tmp = pd.DataFrame(val,columns=['x','y','z'])\n",
    "        tmp['label'] = key\n",
    "        df = pd.concat([df,tmp])\n",
    "\n",
    "    for key,val in circumferences.items():\n",
    "        tmp = pd.DataFrame(val,columns=['x','y','z'])\n",
    "        tmp['label'] = key\n",
    "        df = pd.concat([df,tmp])\n",
    "    return df\n",
    "\n",
    "def mc_dataframe(T, sigma, mean=np.zeros(6),N=1_00):\n",
    "    poses, xi = get_mc(T=T, sigma=sigma, mean=mean,N=N)\n",
    "    \n",
    "    particles = pd.DataFrame(poses, columns=['x','y','z'])\n",
    "    \n",
    "    return particles\n",
    "    "
   ]
  },
  {
   "cell_type": "code",
   "execution_count": null,
   "metadata": {},
   "outputs": [],
   "source": [
    "# from uncertainty import compound_2nd\n",
    "# from mrob.geometry import SE3, SO3\n",
    "\n",
    "# def propagate(ps,Rs,sigma0, length):\n",
    "    \n",
    "#     vis_step = 500\n",
    "#     compound_step=100\n",
    "    \n",
    "#     traj = pd.DataFrame(ps[:length],columns=['x','y','z'])\n",
    "#     fig = px.line_3d(traj,x='x',y='y',z='z',height=900)\n",
    "# #     fig.update_layout(scene = dict(\n",
    "# #                      ,))\n",
    "#     fig.update_layout(scene = dict(aspectmode='manual', aspectratio=dict(x=1, y=1, z=1),\n",
    "#                                   xaxis = dict(nticks=4, range=[-10,10],),\n",
    "#                      yaxis = dict(nticks=4, range=[-10,10],),\n",
    "#                      zaxis = dict(nticks=4, range=[-10,10],)))\n",
    "    \n",
    "#     T = mrob.geometry.SE3()\n",
    "#     mean = np.zeros(6)\n",
    "    \n",
    "#     sigma=sigma0\n",
    "    \n",
    "#     particles = mc_dataframe(T,sigma,mean,N=1000) + traj.iloc[0]\n",
    "\n",
    "#     fig.add_scatter3d(x=particles['x'],y=particles['y'],z=particles['z'],opacity=0.5,mode='markers',marker={'size':3})\n",
    "    \n",
    "#     wframe = ellipsoid_dataframe(T,sigma,N=100,K=3)[['x','y','z']] + traj.iloc[0]\n",
    "#     fig.add_scatter3d(x=wframe['x'],y = wframe['y'],z=wframe['z'],mode='lines')\n",
    "    \n",
    "    \n",
    "#     for i in range(len(ps[:length])-1):\n",
    "        \n",
    "#         if i % compound_step == 0:\n",
    "# #             tmp = SE3(SO3(Rs[i]),ps[i]).inv().mul(SE3(SO3(Rs[i+1]),ps[i+1]))\n",
    "#             tmp = (SE3(SO3(Rs[i+1]),ps[i+1]).inv()).mul(SE3(SO3(Rs[i]),ps[i]))\n",
    "\n",
    "#             T, sigma = compound_2nd(T,sigma,tmp, np.diag([0.1,0.1,0,0.01,0.01,0.005]))\n",
    "        \n",
    "#         if i % vis_step == 0:\n",
    "#             particles = mc_dataframe(T,sigma,mean,N=1000) + traj.iloc[i]\n",
    "\n",
    "#             fig.add_scatter3d(x=particles['x'],y=particles['y'],z=particles['z'],opacity=0.5,mode='markers',marker={'size':3})\n",
    "\n",
    "#             wframe = ellipsoid_dataframe(T,sigma,N=100,K=3)[['x','y','z']] + traj.iloc[i]\n",
    "#             fig.add_scatter3d(x=wframe['x'],y = wframe['y'],z=wframe['z'],mode='lines')\n",
    "            \n",
    "        \n",
    "#     fig.update_yaxes(\n",
    "#     scaleanchor = \"x\",\n",
    "#     scaleratio = 1,)  \n",
    "    \n",
    "    \n",
    "    \n",
    "#     fig.show()\n",
    "    \n",
    "    "
   ]
  },
  {
   "cell_type": "markdown",
   "metadata": {},
   "source": [
    "## Propagation along circle"
   ]
  },
  {
   "cell_type": "code",
   "execution_count": null,
   "metadata": {},
   "outputs": [],
   "source": [
    "from uncertainty import compound_2nd\n",
    "from mrob.geometry import SE3, SO3\n",
    "\n",
    "def propagate(ps,Rs,sigma0, start, finish):\n",
    "    \n",
    "    vis_step = 250\n",
    "#     compound_step=5\n",
    "    \n",
    "    traj = pd.DataFrame(ps[start:finish],columns=['x','y','z'])\n",
    "    fig = px.line_3d(traj,x='x',y='y',z='z',height=900)\n",
    "#     fig.update_layout(scene = dict(\n",
    "#                      ,))\n",
    "    fig.update_layout(scene = dict(aspectmode='manual', aspectratio=dict(x=1, y=1, z=1),\n",
    "                                  xaxis = dict(nticks=4, range=[-15,15],),\n",
    "                     yaxis = dict(nticks=4, range=[-15,15],),\n",
    "                     zaxis = dict(nticks=4, range=[-15,15],)))\n",
    "    \n",
    "    T = mrob.geometry.SE3()\n",
    "    mean = np.zeros(6)\n",
    "    \n",
    "    sigma=sigma0\n",
    "    \n",
    "    particles = mc_dataframe(T,sigma,mean,N=1000) + traj.iloc[0]\n",
    "\n",
    "    fig.add_scatter3d(x=particles['x'],y=particles['y'],z=particles['z'],opacity=0.5,mode='markers',marker={'size':3})\n",
    "    \n",
    "    wframe = ellipsoid_dataframe(T,sigma,N=100,K=3)[['x','y','z']] + traj.iloc[0]\n",
    "    fig.add_scatter3d(x=wframe['x'],y = wframe['y'],z=wframe['z'],mode='lines')\n",
    "    \n",
    "    \n",
    "    for i in range(len(ps[start:finish])-1):\n",
    "        \n",
    "#         if i % compound_step == 0:\n",
    "        tmp = SE3(SO3(Rs[i]),ps[i]).inv().mul(SE3(SO3(Rs[i+1]),ps[i+1]))\n",
    "#             tmp = (SE3(SO3(Rs[i+1]),ps[i+1]).inv()).mul(SE3(SO3(Rs[i]),ps[i]))\n",
    "\n",
    "        T, sigma = compound_2nd(T,sigma, tmp, 1e-4*np.diag([0.01,0.01,0.01,0.01,0.01,0.01]))\n",
    "        \n",
    "        if i % vis_step == 0:\n",
    "            particles =  mc_dataframe(T,sigma,mean,N=1000) + traj.iloc[i] - T.t()\n",
    "\n",
    "            fig.add_scatter3d(x=particles['x'],y=particles['y'],z=particles['z'],opacity=0.5,mode='markers',marker={'size':3})\n",
    "\n",
    "            wframe = ellipsoid_dataframe(T,sigma,N=100,K=3)[['x','y','z']] + traj.iloc[i] - T.t()\n",
    "            fig.add_scatter3d(x=wframe['x'],y = wframe['y'],z=wframe['z'],mode='lines')\n",
    "            \n",
    "        \n",
    "    fig.update_yaxes(\n",
    "    scaleanchor = \"x\",\n",
    "    scaleratio = 1,)  \n",
    "    \n",
    "    \n",
    "    \n",
    "    fig.show()\n",
    "    \n",
    "    "
   ]
  },
  {
   "cell_type": "code",
   "execution_count": null,
   "metadata": {
    "scrolled": false
   },
   "outputs": [],
   "source": [
    "sigma_0 = np.diag([0.01,0.01,0.01,0.01,0.01,0.01])\n",
    "\n",
    "\n",
    "propagate(ps,Rs,sigma_0, 2000, 7000)"
   ]
  },
  {
   "cell_type": "markdown",
   "metadata": {},
   "source": [
    "## Propagating along straight line"
   ]
  },
  {
   "cell_type": "code",
   "execution_count": null,
   "metadata": {},
   "outputs": [],
   "source": [
    "from uncertainty import compound_2nd\n",
    "from mrob.geometry import SE3, SO3\n",
    "\n",
    "def propagate(ps,Rs,sigma0, start, finish):\n",
    "    \n",
    "    vis_step = 250\n",
    "#     compound_step=5\n",
    "    \n",
    "    traj = pd.DataFrame(ps[start:finish],columns=['x','y','z'])\n",
    "    fig = px.line_3d(traj,x='x',y='y',z='z',height=900)\n",
    "#     fig.update_layout(scene = dict(\n",
    "#                      ,))\n",
    "    fig.update_layout(scene = dict(aspectmode='manual', aspectratio=dict(x=1, y=1, z=1),\n",
    "                                  xaxis = dict(nticks=4, range=[-15,15],),\n",
    "                     yaxis = dict(nticks=4, range=[-15,15],),\n",
    "                     zaxis = dict(nticks=4, range=[-15,15],)))\n",
    "    \n",
    "    T = mrob.geometry.SE3()\n",
    "    mean = np.zeros(6)\n",
    "    \n",
    "    sigma=sigma0\n",
    "    \n",
    "    particles = mc_dataframe(T,sigma,mean,N=1000) + traj.iloc[0]\n",
    "\n",
    "    fig.add_scatter3d(x=particles['x'],y=particles['y'],z=particles['z'],opacity=0.5,mode='markers',marker={'size':3})\n",
    "    \n",
    "    wframe = ellipsoid_dataframe(T,sigma,N=1000,K=3)[['x','y','z']] + traj.iloc[0]\n",
    "    fig.add_scatter3d(x=wframe['x'],y = wframe['y'],z=wframe['z'],mode='lines')\n",
    "    \n",
    "    \n",
    "    for i in range(len(ps[start:finish])-1):\n",
    "        \n",
    "#         if i % compound_step == 0:\n",
    "        tmp = SE3(SO3(Rs[i]),ps[i]).inv().mul(SE3(SO3(Rs[i+1]),ps[i+1]))\n",
    "#             tmp = (SE3(SO3(Rs[i+1]),ps[i+1]).inv()).mul(SE3(SO3(Rs[i]),ps[i]))\n",
    "\n",
    "        T, sigma = compound_2nd(T,sigma, tmp, 1e-4*np.diag([0.01,0.01,0.01,0.01,0.01,0.01]))\n",
    "        \n",
    "        if i % vis_step == 0:\n",
    "            particles =  mc_dataframe(T,sigma,mean,N=1000) + traj.iloc[i] - T.t()\n",
    "\n",
    "            fig.add_scatter3d(x=particles['x'],y=particles['y'],z=particles['z'],opacity=0.5,mode='markers',marker={'size':3})\n",
    "\n",
    "            wframe = ellipsoid_dataframe(T,sigma,N=100,K=3)[['x','y','z']] + traj.iloc[i] - T.t()\n",
    "            fig.add_scatter3d(x=wframe['x'],y = wframe['y'],z=wframe['z'],mode='lines')\n",
    "            \n",
    "        \n",
    "    fig.update_yaxes(\n",
    "    scaleanchor = \"x\",\n",
    "    scaleratio = 1,)  \n",
    "    \n",
    "    \n",
    "    \n",
    "    fig.show()\n",
    "    \n",
    "    "
   ]
  },
  {
   "cell_type": "code",
   "execution_count": null,
   "metadata": {},
   "outputs": [],
   "source": [
    "Rline = [R.R() for R in imu_straight.R_history]\n",
    "pline = imu_straight.p_history = np.array(imu_straight.p_history)"
   ]
  },
  {
   "cell_type": "code",
   "execution_count": null,
   "metadata": {},
   "outputs": [],
   "source": [
    "sigma_0 = np.diag([0.1,0.01,0.01,0.05,0.05,0.05])\n",
    "\n",
    "length = 2000\n",
    "\n",
    "propagate(pline,Rline,sigma_0, 0, 4000)"
   ]
  },
  {
   "cell_type": "code",
   "execution_count": null,
   "metadata": {},
   "outputs": [],
   "source": [
    "!ls"
   ]
  },
  {
   "cell_type": "markdown",
   "metadata": {},
   "source": [
    "## Real world data"
   ]
  },
  {
   "cell_type": "code",
   "execution_count": null,
   "metadata": {},
   "outputs": [],
   "source": [
    "df = pd.read_csv('data1.csv')"
   ]
  },
  {
   "cell_type": "code",
   "execution_count": null,
   "metadata": {},
   "outputs": [],
   "source": [
    "from uncertainty import compound_2nd\n",
    "from mrob.geometry import SE3, SO3\n",
    "\n",
    "def propagate(df,sigma0, start, finish):\n",
    "    \n",
    "    vis_step = 350\n",
    "#     compound_step=5\n",
    "    \n",
    "    traj = pd.DataFrame(df[['p1', 'p2', 'p3']].values[start:finish],columns=['x','y','z'])\n",
    "    traj.values[:,2] = 0\n",
    "#     print(traj.values)\n",
    "    ps = traj.values\n",
    "    \n",
    "    Rs = df[['R11', 'R12', 'R13', 'R21', 'R22', 'R23', 'R31', 'R32','R33']].values.reshape((len(df),3,3))\n",
    "#     print(Rs.shape)\n",
    "    sigmas = df[['sigma_yaw','sigma_pitch', 'sigma_roll', 'sigma_p1', 'sigma_p2', 'sigma_p']].values\n",
    "    \n",
    "#     print(sigmas.shape)\n",
    "    \n",
    "    fig = px.line_3d(traj,x='x',y='y',z='z',height=900)\n",
    "#     fig.update_layout(scene = dict(\n",
    "#                      ,))\n",
    "#     fig.update_layout(scene = dict(aspectmode='manual', aspectratio=dict(x=1, y=1, z=1),\n",
    "#                                   xaxis = dict(nticks=4, range=[-100,100],),\n",
    "#                      yaxis = dict(nticks=4, range=[-100,100],),\n",
    "#                      zaxis = dict(nticks=4, range=[-100,100],)))\n",
    "    \n",
    "    T = mrob.geometry.SE3()\n",
    "    mean = np.zeros(6)\n",
    "    \n",
    "    sigma=sigma0\n",
    "    \n",
    "    particles = mc_dataframe(T,sigma,mean,N=1000) + traj.iloc[0]\n",
    "\n",
    "    fig.add_scatter3d(x=particles['x'],y=particles['y'],z=particles['z'],opacity=0.5,mode='markers',marker={'size':3})\n",
    "    \n",
    "    wframe = ellipsoid_dataframe(T,sigma,N=100,K=3)[['x','y','z']] + traj.iloc[0]\n",
    "    fig.add_scatter3d(x=wframe['x'],y = wframe['y'],z=wframe['z'],mode='lines')\n",
    "    \n",
    "    \n",
    "    for i in range(len(ps[start:finish])-1):\n",
    "        \n",
    "#         if i % compound_step == 0:\n",
    "        tmp = SE3(SO3(Rs[i]),ps[i]).inv().mul(SE3(SO3(Rs[i+1]),ps[i+1]))\n",
    "#             tmp = (SE3(SO3(Rs[i+1]),ps[i+1]).inv()).mul(SE3(SO3(Rs[i]),ps[i]))\n",
    "\n",
    "        T, sigma = compound_2nd(T,sigma, tmp, 1e-4*np.diag(sigmas[i]))\n",
    "        \n",
    "        if i % vis_step == 0:\n",
    "            particles =  mc_dataframe(T,sigma,mean,N=1000) + traj.iloc[i] - T.t()\n",
    "\n",
    "            fig.add_scatter3d(x=particles['x'],y=particles['y'],z=particles['z'],opacity=0.5,mode='markers',marker={'size':3})\n",
    "\n",
    "            wframe = ellipsoid_dataframe(T,sigma,N=100,K=3)[['x','y','z']] + traj.iloc[i] - T.t()\n",
    "            fig.add_scatter3d(x=wframe['x'],y = wframe['y'],z=wframe['z'],mode='lines')\n",
    "            \n",
    "        \n",
    "    fig.update_yaxes(\n",
    "    scaleanchor = \"x\",\n",
    "    scaleratio = 1,)  \n",
    "    \n",
    "    \n",
    "    \n",
    "    fig.show()\n",
    "    "
   ]
  },
  {
   "cell_type": "code",
   "execution_count": null,
   "metadata": {},
   "outputs": [],
   "source": [
    "sigma_0 = np.diag([0.1,0.01,0.01,0.05,0.05,0.05])\n",
    "\n",
    "length = 2000\n",
    "\n",
    "propagate(df,sigma_0, 0, len(df))"
   ]
  },
  {
   "cell_type": "code",
   "execution_count": null,
   "metadata": {},
   "outputs": [],
   "source": [
    "df = pd.read_csv('data2.csv')\n",
    "\n",
    "from uncertainty import compound_2nd\n",
    "from mrob.geometry import SE3, SO3\n",
    "\n",
    "def propagate(df,sigma0, start, finish):\n",
    "    \n",
    "    vis_step = 350\n",
    "#     compound_step=5\n",
    "    \n",
    "    traj = pd.DataFrame(df[['p1', 'p2', 'p3']].values[start:finish],columns=['x','y','z'])\n",
    "    traj.values[:,2] = 0\n",
    "#     print(traj.values)\n",
    "    ps = traj.values\n",
    "    \n",
    "    Rs = df[['R11', 'R12', 'R13', 'R21', 'R22', 'R23', 'R31', 'R32','R33']].values.reshape((len(df),3,3))\n",
    "#     print(Rs.shape)\n",
    "    sigmas = df[['sigma_yaw','sigma_pitch', 'sigma_roll', 'sigma_p1', 'sigma_p2', 'sigma_p']].values\n",
    "    \n",
    "#     print(sigmas.shape)\n",
    "    \n",
    "    fig = px.line_3d(traj,x='x',y='y',z='z',height=900)\n",
    "#     fig.update_layout(scene = dict(\n",
    "#                      ,))\n",
    "#     fig.update_layout(scene = dict(aspectmode='manual', aspectratio=dict(x=1, y=1, z=1),\n",
    "#                                   xaxis = dict(nticks=4, range=[-100,100],),\n",
    "#                      yaxis = dict(nticks=4, range=[-100,100],),\n",
    "#                      zaxis = dict(nticks=4, range=[-100,100],)))\n",
    "    \n",
    "    T = mrob.geometry.SE3()\n",
    "    mean = np.zeros(6)\n",
    "    \n",
    "    sigma=sigma0\n",
    "    \n",
    "    particles = mc_dataframe(T,sigma,mean,N=1000) + traj.iloc[0]\n",
    "\n",
    "    fig.add_scatter3d(x=particles['x'],y=particles['y'],z=particles['z'],opacity=0.5,mode='markers',marker={'size':3})\n",
    "    \n",
    "    wframe = ellipsoid_dataframe(T,sigma,N=100,K=3)[['x','y','z']] + traj.iloc[0]\n",
    "    fig.add_scatter3d(x=wframe['x'],y = wframe['y'],z=wframe['z'],mode='lines')\n",
    "    \n",
    "    \n",
    "    for i in range(len(ps[start:finish])-1):\n",
    "        \n",
    "#         if i % compound_step == 0:\n",
    "        tmp = SE3(SO3(Rs[i]),ps[i]).inv().mul(SE3(SO3(Rs[i+1]),ps[i+1]))\n",
    "#             tmp = (SE3(SO3(Rs[i+1]),ps[i+1]).inv()).mul(SE3(SO3(Rs[i]),ps[i]))\n",
    "\n",
    "        T, sigma = compound_2nd(T,sigma, tmp, 1e-4*np.diag(sigmas[i]))\n",
    "        \n",
    "        if i % vis_step == 0:\n",
    "            particles =  mc_dataframe(T,sigma,mean,N=1000) + traj.iloc[i] - T.t()\n",
    "\n",
    "            fig.add_scatter3d(x=particles['x'],y=particles['y'],z=particles['z'],opacity=0.5,mode='markers',marker={'size':3})\n",
    "\n",
    "            wframe = ellipsoid_dataframe(T,sigma,N=100,K=3)[['x','y','z']] + traj.iloc[i] - T.t()\n",
    "            fig.add_scatter3d(x=wframe['x'],y = wframe['y'],z=wframe['z'],mode='lines')\n",
    "            \n",
    "        \n",
    "    fig.update_yaxes(\n",
    "    scaleanchor = \"x\",\n",
    "    scaleratio = 1,)  \n",
    "    \n",
    "    \n",
    "    \n",
    "    fig.show()\n",
    "    \n",
    "\n",
    "sigma_0 = np.diag([0.1,0.01,0.01,0.05,0.05,0.5])\n",
    "\n",
    "length = 2000\n",
    "\n",
    "propagate(df,sigma_0, 0, len(df))"
   ]
  },
  {
   "cell_type": "code",
   "execution_count": null,
   "metadata": {},
   "outputs": [],
   "source": [
    "df = pd.read_csv('data3.csv')\n",
    "\n",
    "from uncertainty import compound_2nd, compound_4th\n",
    "from mrob.geometry import SE3, SO3\n",
    "\n",
    "def propagate(df,sigma0, start, finish):\n",
    "    \n",
    "    vis_step = 500\n",
    "#     compound_step=5\n",
    "    \n",
    "    traj = pd.DataFrame(df[['p1', 'p2', 'p3']].values[start:finish],columns=['x','y','z'])\n",
    "    traj.values[:,2] = 0\n",
    "#     print(traj.values)\n",
    "    ps = traj.values\n",
    "    \n",
    "    Rs = df[['R11', 'R12', 'R13', 'R21', 'R22', 'R23', 'R31', 'R32','R33']].values.reshape((len(df),3,3))\n",
    "#     print(Rs.shape)\n",
    "    sigmas = df[['sigma_yaw','sigma_pitch', 'sigma_roll', 'sigma_p1', 'sigma_p2', 'sigma_p']].values\n",
    "    \n",
    "#     print(sigmas.shape)\n",
    "    \n",
    "    fig = px.line_3d(traj,x='x',y='y',z='z',height=900)\n",
    "#     fig.update_layout(scene = dict(\n",
    "#                      ,))\n",
    "    fig.update_layout(scene = dict(aspectmode='data', aspectratio=dict(x=1, y=1, z=1)))\n",
    "#                                   xaxis = dict(nticks=4, range=[-100,100],),\n",
    "#                      yaxis = dict(nticks=4, range=[-100,100],),\n",
    "#                      zaxis = dict(nticks=4, range=[-100,100],)))\n",
    "    \n",
    "    T = mrob.geometry.SE3()\n",
    "    mean = np.zeros(6)\n",
    "    \n",
    "    sigma=sigma0\n",
    "    \n",
    "    particles = mc_dataframe(T,sigma,mean,N=1000) + traj.iloc[0]\n",
    "\n",
    "    fig.add_scatter3d(x=particles['x'],y=particles['y'],z=particles['z'],opacity=0.5,mode='markers',marker={'size':3})\n",
    "    \n",
    "    wframe = ellipsoid_dataframe(T,sigma,N=100,K=3)[['x','y','z']] + traj.iloc[0]\n",
    "    fig.add_scatter3d(x=wframe['x'],y = wframe['y'],z=wframe['z'],mode='lines')\n",
    "    \n",
    "    \n",
    "    for i in range(len(ps[start:finish])-1):\n",
    "        \n",
    "#         if i % compound_step == 0:\n",
    "        tmp = SE3(SO3(Rs[i]),ps[i]).inv().mul(SE3(SO3(Rs[i+1]),ps[i+1]))\n",
    "#             tmp = (SE3(SO3(Rs[i+1]),ps[i+1]).inv()).mul(SE3(SO3(Rs[i]),ps[i]))\n",
    "\n",
    "        T, sigma = compound_2nd(T,sigma, tmp, 1e-6*np.diag(sigmas[i]))\n",
    "        \n",
    "        if i % vis_step == 0:\n",
    "            particles =  mc_dataframe(T,sigma,mean,N=1000) + traj.iloc[i] - T.t()\n",
    "\n",
    "            fig.add_scatter3d(x=particles['x'],y=particles['y'],z=particles['z'],opacity=0.5,mode='markers',marker={'size':3})\n",
    "\n",
    "            wframe = ellipsoid_dataframe(T,sigma,N=100,K=3)[['x','y','z']] + traj.iloc[i] - T.t()\n",
    "            fig.add_scatter3d(x=wframe['x'],y = wframe['y'],z=wframe['z'],mode='lines')\n",
    "            \n",
    "        \n",
    "    fig.update_yaxes(\n",
    "    scaleanchor = \"x\",\n",
    "    scaleratio = 1,)  \n",
    "    \n",
    "    \n",
    "    \n",
    "    fig.show()\n",
    "    \n",
    "\n",
    "sigma_0 = np.diag([0.1,0.01,0.01,0.05,0.05,0.005])\n",
    "\n",
    "length = 2000\n",
    "\n",
    "propagate(df,sigma_0, 0, len(df))"
   ]
  },
  {
   "cell_type": "code",
   "execution_count": null,
   "metadata": {},
   "outputs": [],
   "source": []
  }
 ],
 "metadata": {
  "colab": {
   "name": "PerceptionProject.ipynb",
   "provenance": []
  },
  "kernelspec": {
   "display_name": "Python 3",
   "language": "python",
   "name": "python3"
  },
  "language_info": {
   "codemirror_mode": {
    "name": "ipython",
    "version": 3
   },
   "file_extension": ".py",
   "mimetype": "text/x-python",
   "name": "python",
   "nbconvert_exporter": "python",
   "pygments_lexer": "ipython3",
   "version": "3.6.10"
  }
 },
 "nbformat": 4,
 "nbformat_minor": 1
}
