{
 "cells": [
  {
   "cell_type": "code",
   "execution_count": 1,
   "metadata": {},
   "outputs": [
    {
     "name": "stderr",
     "output_type": "stream",
     "text": [
      "\n",
      "Bad key \"text.kerning_factor\" on line 4 in\n",
      "/home/nosmokingsurfer/miniconda3/envs/lyft_env/lib/python3.6/site-packages/matplotlib/mpl-data/stylelib/_classic_test_patch.mplstyle.\n",
      "You probably need to get an updated matplotlibrc file from\n",
      "http://github.com/matplotlib/matplotlib/blob/master/matplotlibrc.template\n",
      "or from the matplotlib source distribution\n"
     ]
    }
   ],
   "source": [
    "import matplotlib.pyplot as plt\n",
    "\n",
    "from tqdm import tqdm\n",
    "\n",
    "import mrob\n",
    "import sklearn\n",
    "import sklearn.datasets\n",
    "import numpy as np\n",
    "import scipy\n",
    "import scipy.stats\n",
    "from tqdm import tqdm\n",
    "from multiprocessing import Pool"
   ]
  },
  {
   "cell_type": "code",
   "execution_count": 2,
   "metadata": {},
   "outputs": [],
   "source": [
    "class TestSE3covMonteCarloCompare:\n",
    "    def __init__(self):\n",
    "        pass\n",
    "        \n",
    "    def generate_random_inputs(self):\n",
    "        # initialize random initial/incremental pose and their covariances\n",
    "        # initial pose and covariance\n",
    "        self.xi_1 = np.random.randn(6)*1e-1\n",
    "        self.pose_1 = mrob.geometry.SE3(self.xi_1)\n",
    "        self.covariance_1 = sklearn.datasets.make_spd_matrix(6)\n",
    "\n",
    "        #incremental pose and covariance\n",
    "        self.xi_2 = np.random.randn(6)*1e-2\n",
    "        self.pose_2 = mrob.geometry.SE3(self.xi_2)\n",
    "        self.covariance_2 = sklearn.datasets.make_spd_matrix(6)*1e-1\n",
    "\n",
    "    def test_compound_second_order(self, N=3000):\n",
    "        # generate random input and store it inside self\n",
    "        self.generate_random_inputs()\n",
    "        \n",
    "        # do the truncated monte carlo sampling of N samples and calculate the resulting variance\n",
    "        mc_covariance = self.get_truncated_mc(self.pose_1,N,2)\n",
    "        \n",
    "        # this code is how 2nd order compounding should be called from SE3Cov class        \n",
    "        cov = mrob.geometry.SE3Cov(self.pose_1, self.covariance_1)\n",
    "        cov.compound_2nd_order(self.pose_2, self.covariance_2)\n",
    "        \n",
    "        # do the 2nd order compounding:\n",
    "        # calculate adjoint for T_1 pose\n",
    "        adj = self.pose_1.adj()\n",
    "        \n",
    "        # first I transform sigmas to the Barfoot notation i.e. to (position, rotation) order\n",
    "        # covariances \n",
    "        sigma_2 = mrob.geometry.SE3Cov.notation_transform(self.covariance_1) + \\\n",
    "                            adj@mrob.geometry.SE3Cov.notation_transform(self.covariance_2)@adj.transpose() \n",
    "        \n",
    "        # transform back to MROB notation\n",
    "        sigma_2 = mrob.geometry.SE3Cov.notation_transform(sigma_2)\n",
    "        \n",
    "        error_se3cov = np.linalg.norm(cov.cov() - mc_covariance)\n",
    "\n",
    "        # error is the Frobenius norm of the difference between covarioance obtained from \n",
    "        # truncated monte carlo and compounding formulas \n",
    "        error_python = np.linalg.norm(sigma_2 - mc_covariance)\n",
    "        \n",
    "        return error_python, error_se3cov\n",
    "\n",
    "    def test_compound_fourth_order(self,N=3000):\n",
    "        self.__init__()\n",
    "        \n",
    "        mc_covariance = self.get_truncated_mc(self.pose_1,N,4)\n",
    "        \n",
    "        cov = mrob.geometry.SE3Cov(self.pose_1, self.covariance_1)\n",
    "        cov.compound_4th_order(self.pose_2, self.covariance_2)\n",
    "        \n",
    "        error = np.linalg.norm(cov.cov() - mc_covariance)\n",
    "        return error\n",
    "\n",
    "    def get_truncated_mc(self, T, N, order):\n",
    "        \n",
    "        #by given covariances I generate two normal distributions with zero bias\n",
    "        norm_var_1 = scipy.stats.multivariate_normal([0,0,0,0,0,0],self.covariance_1,allow_singular=True)\n",
    "        norm_var_2 = scipy.stats.multivariate_normal([0,0,0,0,0,0],self.covariance_2,allow_singular=True)\n",
    "\n",
    "        # generate N samples for xi_1 and xi_2\n",
    "        # Note: these variables are at the MROB notation yet\n",
    "        xi_1 = norm_var_1.rvs(N)\n",
    "        xi_2 = norm_var_2.rvs(N)\n",
    "\n",
    "        # switch to Barfoot notation\n",
    "        permutation = [3,4,5,0,1,2]\n",
    "        idx = np.empty_like(permutation)\n",
    "        idx[permutation] = range(len(permutation))\n",
    "\n",
    "        xi_1 = xi_1[:,idx]\n",
    "        xi_2 = xi_2[:,idx]\n",
    "\n",
    "        # calculating the adjoint matrix from pose_1\n",
    "        adj = T.adj()\n",
    "        \n",
    "        # multiplying xi_2 points by adjoint from the left\n",
    "        xi_2 = [adj@xi for xi in xi_2]\n",
    "\n",
    "        # calculating the covariance by definition - summing up all pairs of outer products of random values\n",
    "        covariance = np.zeros((6,6))\n",
    "        for i in (range(N)):\n",
    "            covariance += xi_1[i].reshape(6,1)@xi_1[i].reshape(6,1).transpose() \\\n",
    "                        + xi_2[i].reshape(6,1)@xi_2[i].reshape(6,1).transpose()\n",
    "\n",
    "            if order == 4:\n",
    "                xi_1_w = mrob.geometry.curley_wedge(xi_1[i])\n",
    "                xi_2_w = mrob.geometry.curley_wedge(xi_2[i])\n",
    "                \n",
    "                covariance += 1./12.*((xi_1_w@xi_1_w)@(xi_2[i].reshape(6,1)@xi_2[i].reshape(6,1).transpose()) \\\n",
    "                    + (xi_2[i].reshape(6,1)@xi_2[i].reshape(6,1).transpose())@(xi_1_w@xi_1_w).transpose() \\\n",
    "                    + (xi_2_w@xi_2_w)@(xi_1[i].reshape(6,1)@xi_1[i].reshape(6,1).transpose()) \\\n",
    "                    + (xi_1[i].reshape(6,1)@xi_1[i].reshape(6,1).transpose())@(xi_2_w@xi_2_w).transpose())\\\n",
    "                + 1./4.*xi_1_w@(xi_2[i].reshape(6,1)@xi_2[i].reshape(6,1).transpose())@xi_1_w.transpose()\n",
    "        \n",
    "        # nomalizing the covariance by the number of samples\n",
    "        covariance = covariance / N\n",
    "\n",
    "        # switching back to the MROB notation\n",
    "        covariance = mrob.geometry.SE3Cov.notation_transform(covariance)\n",
    "        return covariance\n"
   ]
  },
  {
   "cell_type": "code",
   "execution_count": 3,
   "metadata": {},
   "outputs": [],
   "source": [
    "test = TestSE3covMonteCarloCompare()"
   ]
  },
  {
   "cell_type": "code",
   "execution_count": 14,
   "metadata": {},
   "outputs": [],
   "source": [
    "# N = np.linspace(10,300_000,num=5)\n",
    "N = np.logspace(1,6,num=7)\n",
    "M = 10"
   ]
  },
  {
   "cell_type": "code",
   "execution_count": 5,
   "metadata": {},
   "outputs": [
    {
     "name": "stderr",
     "output_type": "stream",
     "text": [
      "100%|██████████| 7/7 [01:26<00:00, 12.31s/it]\n"
     ]
    }
   ],
   "source": [
    "errors_2_se3cov = np.zeros((M,len(N)))\n",
    "errors_2_python = np.zeros((M,len(N)))\n",
    "\n",
    "for n in tqdm(range(len(N))):\n",
    "    for m in range(M):\n",
    "        errors_2_python[m,n], errors_2_se3cov[m,n] = test.test_compound_second_order(int(N[n]))"
   ]
  },
  {
   "cell_type": "code",
   "execution_count": 6,
   "metadata": {},
   "outputs": [
    {
     "name": "stderr",
     "output_type": "stream",
     "text": [
      "100%|██████████| 7/7 [07:24<00:00, 63.49s/it] \n"
     ]
    }
   ],
   "source": [
    "errors_4_se3cov = np.zeros((M,len(N)))\n",
    "\n",
    "for n in tqdm(range(len(N))):\n",
    "    for m in range(M):\n",
    "        errors_4_se3cov[m,n] = test.test_compound_fourth_order(int(N[n]))"
   ]
  },
  {
   "cell_type": "code",
   "execution_count": 18,
   "metadata": {},
   "outputs": [
    {
     "data": {
      "image/png": "[encoded data removed]",
      "text/plain": [
       "<Figure size 720x360 with 1 Axes>"
      ]
     },
     "metadata": {
      "needs_background": "light"
     },
     "output_type": "display_data"
    }
   ],
   "source": [
    "plt.figure(figsize=(10,5))\n",
    "plt.loglog(N, np.mean(errors_2_python, axis=0), label='second order compound. pure python')\n",
    "plt.loglog(N, np.mean(errors_2_se3cov, axis=0), label='second order compound. se3cov class')\n",
    "plt.loglog(N, np.mean(errors_4_se3cov, axis=0), label='fourth order compound. se3cov class')\n",
    "plt.title('python and mrob.se3cov compounding vs truncated monte carlo')\n",
    "plt.xlabel('number of samples')\n",
    "plt.ylabel('error')\n",
    "plt.legend()\n",
    "plt.grid()"
   ]
  },
  {
   "cell_type": "code",
   "execution_count": 19,
   "metadata": {},
   "outputs": [
    {
     "name": "stdout",
     "output_type": "stream",
     "text": [
      "2nd order, se3cov class: [3.56483826 1.39038964 0.47972642 0.20228579 0.05953389 0.02988228\n",
      " 0.01032891]\n",
      "2nd order, python: [3.56483826 1.39038964 0.47972642 0.20228579 0.05953389 0.02988228\n",
      " 0.01032891]\n",
      "4th order, se3cov class: [3.380788   1.71919025 1.21013993 1.1145241  1.1064301  1.09195229\n",
      " 1.08919145]\n"
     ]
    }
   ],
   "source": [
    "print('2nd order, se3cov class:',np.mean(errors_2_se3cov,axis=0)) # mrob::SE3cov.second_order\n",
    "print('2nd order, python:',np.mean(errors_2_python,axis=0)) # pure python\n",
    "print('4th order, se3cov class:',np.mean(errors_4_se3cov,axis=0)) # mrob::Se3cov.fourth_order"
   ]
  },
  {
   "cell_type": "markdown",
   "metadata": {},
   "source": [
    "# 6D distribution covariance estimation"
   ]
  },
  {
   "cell_type": "code",
   "execution_count": 20,
   "metadata": {},
   "outputs": [
    {
     "data": {
      "text/plain": [
       "(1000000, 6)"
      ]
     },
     "execution_count": 20,
     "metadata": {},
     "output_type": "execute_result"
    }
   ],
   "source": [
    "n_samples = 1_000_000\n",
    "covariance_1 = sklearn.datasets.make_spd_matrix(6)\n",
    "norm_var_1 = scipy.stats.multivariate_normal([0,0,0,0,0,0],covariance_1,allow_singular=True)\n",
    "\n",
    "xi_1 = norm_var_1.rvs(n_samples)\n",
    "xi_1.shape"
   ]
  },
  {
   "cell_type": "code",
   "execution_count": 22,
   "metadata": {},
   "outputs": [
    {
     "name": "stderr",
     "output_type": "stream",
     "text": [
      "100%|██████████| 1000000/1000000 [00:03<00:00, 282117.04it/s]\n"
     ]
    },
    {
     "data": {
      "text/plain": [
       "0.012558412277299702"
      ]
     },
     "execution_count": 22,
     "metadata": {},
     "output_type": "execute_result"
    }
   ],
   "source": [
    "covariance = np.zeros((6,6))\n",
    "for i in tqdm(range(n_samples)):\n",
    "    covariance += xi_1[i].reshape(6,1)@xi_1[i].reshape(6,1).transpose()\n",
    "covariance = covariance / n_samples\n",
    "np.linalg.norm(covariance - covariance_1)"
   ]
  },
  {
   "cell_type": "code",
   "execution_count": null,
   "metadata": {},
   "outputs": [],
   "source": []
  }
 ],
 "metadata": {
  "kernelspec": {
   "display_name": "Python 3",
   "language": "python",
   "name": "python3"
  },
  "language_info": {
   "codemirror_mode": {
    "name": "ipython",
    "version": 3
   },
   "file_extension": ".py",
   "mimetype": "text/x-python",
   "name": "python",
   "nbconvert_exporter": "python",
   "pygments_lexer": "ipython3",
   "version": "3.6.10"
  }
 },
 "nbformat": 4,
 "nbformat_minor": 4
}
