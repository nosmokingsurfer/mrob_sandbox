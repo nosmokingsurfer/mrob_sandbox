{
 "cells": [
  {
   "cell_type": "code",
   "execution_count": 18,
   "metadata": {},
   "outputs": [],
   "source": [
    "import matplotlib.pyplot as plt\n",
    "\n",
    "from tqdm import tqdm\n",
    "\n",
    "import mrob\n",
    "import sklearn\n",
    "import sklearn.datasets\n",
    "import numpy as np\n",
    "import scipy\n",
    "import scipy.stats\n",
    "from tqdm import tqdm\n",
    "from multiprocessing import Pool"
   ]
  },
  {
   "cell_type": "code",
   "execution_count": 19,
   "metadata": {},
   "outputs": [],
   "source": [
    "class TestSE3covMonteCarloCompare:\n",
    "    def __init__(self):\n",
    "        pass\n",
    "        \n",
    "    def generate_random_inputs(self):\n",
    "        # initialize random initial/incremental pose and their covariances\n",
    "        # initial pose and covariance\n",
    "        self.xi_1 = np.random.randn(6)*1e-1\n",
    "        self.pose_1 = mrob.geometry.SE3(self.xi_1)\n",
    "        self.covariance_1 = sklearn.datasets.make_spd_matrix(6)\n",
    "\n",
    "        #incremental pose and covariance\n",
    "        self.xi_2 = np.random.randn(6)*1e-2\n",
    "        self.pose_2 = mrob.geometry.SE3(self.xi_2)\n",
    "        self.covariance_2 = sklearn.datasets.make_spd_matrix(6)*1e-1\n",
    "\n",
    "    def test_compound_second_order(self, N=3000):\n",
    "        # generate random input and store it inside self\n",
    "        self.generate_random_inputs()\n",
    "        \n",
    "        # do the truncated monte carlo sampling of N samples and calculate the resulting variance\n",
    "        mc_covariance = self.get_truncated_mc(self.pose_1,N,2)\n",
    "        \n",
    "        # this code is how 2nd order compounding should be called from SE3Cov class        \n",
    "        #         cov = mrob.geometry.SE3Cov(self.pose_1, self.covariance_1)\n",
    "        #         cov.compound_2nd_order(self.pose_2, self.covariance_2)\n",
    "        \n",
    "        # do the 2nd order compounding:\n",
    "        # calculate adjoint for T_1 pose\n",
    "        adj = self.pose_1.adj()\n",
    "        \n",
    "        # first I transform sigmas to the Barfoot notation i.e. to (position, rotation) order\n",
    "        # covariances \n",
    "        sigma_2 = mrob.geometry.SE3Cov.notation_transform(self.covariance_1) + \\\n",
    "                            adj@mrob.geometry.SE3Cov.notation_transform(self.covariance_2)@adj.transpose() \n",
    "        \n",
    "        # transform back to MROB notation\n",
    "        sigma_2 = mrob.geometry.SE3Cov.notation_transform(sigma_2)\n",
    "        \n",
    "#         error = np.linalg.norm(cov.cov() - mc_covariance)\n",
    "\n",
    "        # error is the Frobenius norm of the difference between covarioance obtained from \n",
    "        # truncated monte carlo and compounding formulas \n",
    "        error = np.linalg.norm(sigma_2 - mc_covariance)\n",
    "        \n",
    "        return error\n",
    "\n",
    "#     def test_compound_fourth_order(self,N=3000):\n",
    "#         self.__init__()\n",
    "        \n",
    "#         mc_covariance = self.get_truncated_mc(self.pose_1,N,4)\n",
    "        \n",
    "#         cov = mrob.geometry.SE3Cov(self.pose_1, self.covariance_1)\n",
    "#         cov.compound_4th_order(self.pose_2, self.covariance_2)\n",
    "        \n",
    "#         error = np.linalg.norm(cov.cov() - mc_covariance)\n",
    "#         return error\n",
    "\n",
    "    def get_truncated_mc(self, T, N, order):\n",
    "        \n",
    "        #by given covariances I generate two normal distributions with zero bias\n",
    "        norm_var_1 = scipy.stats.multivariate_normal([0,0,0,0,0,0],self.covariance_1,allow_singular=True)\n",
    "        norm_var_2 = scipy.stats.multivariate_normal([0,0,0,0,0,0],self.covariance_2,allow_singular=True)\n",
    "\n",
    "        # generate N samples for xi_1 and xi_2\n",
    "        # Note: these variables are at the MROB notation yet\n",
    "        xi_1 = norm_var_1.rvs(N)\n",
    "        xi_2 = norm_var_2.rvs(N)\n",
    "\n",
    "        # switch to Barfoot notation\n",
    "        permutation = [3,4,5,0,1,2]\n",
    "        idx = np.empty_like(permutation)\n",
    "        idx[permutation] = range(len(permutation))\n",
    "\n",
    "        xi_1 = xi_1[:,idx]\n",
    "        xi_2 = xi_2[:,idx]\n",
    "\n",
    "        # calculating the adjoint matrix from pose_1\n",
    "        adj = T.adj()\n",
    "        \n",
    "        # multiplying xi_2 points by adjoint from the left\n",
    "        xi_2 = [adj@xi for xi in xi_2]\n",
    "\n",
    "        # calculating the covariance by definition - summing up all pairs of outer products of random values\n",
    "        covariance = np.zeros((6,6))\n",
    "        for i in (range(N)):\n",
    "            covariance += xi_1[i].reshape(6,1)@xi_1[i].reshape(6,1).transpose() \\\n",
    "                        + xi_2[i].reshape(6,1)@xi_2[i].reshape(6,1).transpose()\n",
    "\n",
    "        # nomalizing the covariance by the number of samples\n",
    "        covariance = covariance / N\n",
    "\n",
    "        # switching back to the MROB notation\n",
    "        covariance = mrob.geometry.SE3Cov.notation_transform(covariance)\n",
    "        return covariance\n"
   ]
  },
  {
   "cell_type": "code",
   "execution_count": 20,
   "metadata": {},
   "outputs": [],
   "source": [
    "test = TestSE3covMonteCarloCompare()"
   ]
  },
  {
   "cell_type": "code",
   "execution_count": 21,
   "metadata": {},
   "outputs": [
    {
     "name": "stderr",
     "output_type": "stream",
     "text": [
      "100%|██████████| 7/7 [01:28<00:00, 12.70s/it]\n"
     ]
    }
   ],
   "source": [
    "# N = np.linspace(10,300_000,num=5)\n",
    "N = np.logspace(1,6,num=7)\n",
    "M = 10\n",
    "\n",
    "errors_2 = np.zeros((M,len(N)))\n",
    "\n",
    "for n in tqdm(range(len(N))):\n",
    "    for m in range(M):\n",
    "        errors_2[m,n] = test.test_compound_second_order(int(N[n]))"
   ]
  },
  {
   "cell_type": "code",
   "execution_count": 39,
   "metadata": {},
   "outputs": [
    {
     "data": {
      "image/png": "[encoded data removed]",
      "text/plain": [
       "<Figure size 720x360 with 1 Axes>"
      ]
     },
     "metadata": {
      "needs_background": "light"
     },
     "output_type": "display_data"
    }
   ],
   "source": [
    "plt.figure(figsize=(10,5))\n",
    "plt.loglog(N, np.mean(errors_2, axis=0),label='second order compound')\n",
    "plt.title('Second order error')\n",
    "plt.legend()\n",
    "plt.grid()"
   ]
  },
  {
   "cell_type": "code",
   "execution_count": 23,
   "metadata": {},
   "outputs": [
    {
     "data": {
      "text/plain": [
       "array([2.98963409, 1.42345659, 0.50921819, 0.15066911, 0.07367118,\n",
       "       0.03618564, 0.01034023])"
      ]
     },
     "execution_count": 23,
     "metadata": {},
     "output_type": "execute_result"
    }
   ],
   "source": [
    "np.mean(errors_2,axis=0)"
   ]
  },
  {
   "cell_type": "code",
   "execution_count": 24,
   "metadata": {},
   "outputs": [
    {
     "data": {
      "text/plain": [
       "3.6082063149017976"
      ]
     },
     "execution_count": 24,
     "metadata": {},
     "output_type": "execute_result"
    }
   ],
   "source": [
    "test.test_compound_second_order(5)"
   ]
  },
  {
   "cell_type": "code",
   "execution_count": 25,
   "metadata": {},
   "outputs": [
    {
     "data": {
      "text/plain": [
       "1.8725334638520506"
      ]
     },
     "execution_count": 25,
     "metadata": {},
     "output_type": "execute_result"
    }
   ],
   "source": [
    "test.test_compound_second_order(50)"
   ]
  },
  {
   "cell_type": "code",
   "execution_count": 26,
   "metadata": {},
   "outputs": [
    {
     "data": {
      "text/plain": [
       "0.2517533784231833"
      ]
     },
     "execution_count": 26,
     "metadata": {},
     "output_type": "execute_result"
    }
   ],
   "source": [
    "test.test_compound_second_order(500)"
   ]
  },
  {
   "cell_type": "code",
   "execution_count": 27,
   "metadata": {},
   "outputs": [
    {
     "data": {
      "text/plain": [
       "0.09789328553045593"
      ]
     },
     "execution_count": 27,
     "metadata": {},
     "output_type": "execute_result"
    }
   ],
   "source": [
    "test.test_compound_second_order(5_000)"
   ]
  },
  {
   "cell_type": "code",
   "execution_count": 28,
   "metadata": {},
   "outputs": [
    {
     "data": {
      "text/plain": [
       "0.041148810051546456"
      ]
     },
     "execution_count": 28,
     "metadata": {},
     "output_type": "execute_result"
    }
   ],
   "source": [
    "test.test_compound_second_order(50_000)"
   ]
  },
  {
   "cell_type": "code",
   "execution_count": 29,
   "metadata": {},
   "outputs": [
    {
     "data": {
      "text/plain": [
       "0.009631898844885797"
      ]
     },
     "execution_count": 29,
     "metadata": {},
     "output_type": "execute_result"
    }
   ],
   "source": [
    "test.test_compound_second_order(500_000)"
   ]
  },
  {
   "cell_type": "code",
   "execution_count": 30,
   "metadata": {},
   "outputs": [
    {
     "data": {
      "text/plain": [
       "0.0035639686066725133"
      ]
     },
     "execution_count": 30,
     "metadata": {},
     "output_type": "execute_result"
    }
   ],
   "source": [
    "test.test_compound_second_order(5_000_000)"
   ]
  },
  {
   "cell_type": "code",
   "execution_count": 31,
   "metadata": {},
   "outputs": [
    {
     "data": {
      "text/plain": [
       "0.00370986273261817"
      ]
     },
     "execution_count": 31,
     "metadata": {},
     "output_type": "execute_result"
    }
   ],
   "source": [
    "test.test_compound_second_order(9_000_000)"
   ]
  },
  {
   "cell_type": "code",
   "execution_count": null,
   "metadata": {},
   "outputs": [],
   "source": []
  }
 ],
 "metadata": {
  "kernelspec": {
   "display_name": "Python 3",
   "language": "python",
   "name": "python3"
  },
  "language_info": {
   "codemirror_mode": {
    "name": "ipython",
    "version": 3
   },
   "file_extension": ".py",
   "mimetype": "text/x-python",
   "name": "python",
   "nbconvert_exporter": "python",
   "pygments_lexer": "ipython3",
   "version": "3.6.10"
  }
 },
 "nbformat": 4,
 "nbformat_minor": 4
}
