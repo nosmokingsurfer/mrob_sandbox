{
 "cells": [
  {
   "cell_type": "code",
   "execution_count": 1,
   "metadata": {},
   "outputs": [],
   "source": [
    "import matplotlib.pyplot as plt\n",
    "import numpy as np\n",
    "import pandas as pd\n",
    "\n",
    "import scipy\n",
    "import scipy.stats\n",
    "import seaborn as sns\n",
    "\n",
    "import mrob"
   ]
  },
  {
   "cell_type": "code",
   "execution_count": 2,
   "metadata": {},
   "outputs": [],
   "source": [
    "import sklearn.datasets\n",
    "\n",
    "mean = np.array(0)\n",
    "sigma = 0.03\n",
    "norm_var = scipy.stats.multivariate_normal(mean,sigma)"
   ]
  },
  {
   "cell_type": "code",
   "execution_count": 3,
   "metadata": {},
   "outputs": [],
   "source": [
    "N = 100\n",
    "xi = np.zeros((N,6))\n",
    "xi[:,0] = norm_var.rvs(N)"
   ]
  },
  {
   "cell_type": "code",
   "execution_count": 4,
   "metadata": {},
   "outputs": [],
   "source": [
    "df = pd.DataFrame(xi)"
   ]
  },
  {
   "cell_type": "code",
   "execution_count": 5,
   "metadata": {},
   "outputs": [
    {
     "name": "stdout",
     "output_type": "stream",
     "text": [
      "           0    1    2    3    4    5\n",
      "0   0.007010  0.0  0.0  0.0  0.0  0.0\n",
      "1   0.079642  0.0  0.0  0.0  0.0  0.0\n",
      "2  -0.053179  0.0  0.0  0.0  0.0  0.0\n",
      "3   0.280575  0.0  0.0  0.0  0.0  0.0\n",
      "4  -0.145696  0.0  0.0  0.0  0.0  0.0\n",
      "..       ...  ...  ...  ...  ...  ...\n",
      "95 -0.038954  0.0  0.0  0.0  0.0  0.0\n",
      "96  0.057306  0.0  0.0  0.0  0.0  0.0\n",
      "97  0.225160  0.0  0.0  0.0  0.0  0.0\n",
      "98  0.090509  0.0  0.0  0.0  0.0  0.0\n",
      "99  0.142969  0.0  0.0  0.0  0.0  0.0\n",
      "\n",
      "[100 rows x 6 columns]\n"
     ]
    }
   ],
   "source": [
    "print(df)"
   ]
  },
  {
   "cell_type": "code",
   "execution_count": 6,
   "metadata": {
    "scrolled": false
   },
   "outputs": [],
   "source": [
    "# g = sns.PairGrid(df, diag_sharey=False)\n",
    "# g.map_upper(sns.scatterplot, s=15)\n",
    "# g.map_lower(sns.kdeplot)\n",
    "# g.map_diag(sns.kdeplot, lw=2)"
   ]
  },
  {
   "cell_type": "code",
   "execution_count": 7,
   "metadata": {},
   "outputs": [
    {
     "name": "stdout",
     "output_type": "stream",
     "text": [
      "[[1. 0. 0. 0.]\n",
      " [0. 1. 0. 0.]\n",
      " [0. 0. 1. 0.]\n",
      " [0. 0. 0. 1.]]\n"
     ]
    }
   ],
   "source": [
    "T_0 = mrob.geometry.SE3([0,0,0,0,0,0])\n",
    "print(T_0.T())"
   ]
  },
  {
   "cell_type": "code",
   "execution_count": 50,
   "metadata": {
    "scrolled": true
   },
   "outputs": [],
   "source": [
    "propagated = []\n",
    "\n",
    "\n",
    "for i in range(len(xi)):\n",
    "    xi[i][3] = 1\n",
    "    tmp = mrob.geometry.SE3(mrob.geometry.SE3(xi[i]))\n",
    "    propagated.append(tmp)"
   ]
  },
  {
   "cell_type": "code",
   "execution_count": 51,
   "metadata": {
    "scrolled": false
   },
   "outputs": [
    {
     "data": {
      "image/png": "[encoded data removed]",
      "text/plain": [
       "<Figure size 720x720 with 1 Axes>"
      ]
     },
     "metadata": {
      "needs_background": "light"
     },
     "output_type": "display_data"
    }
   ],
   "source": [
    "%matplotlib inline\n",
    "fig = plt.figure(figsize=(10,10))\n",
    "ax = fig.add_subplot(111)\n",
    "\n",
    "poses = np.array([x.t() for x in propagated])\n",
    "poses = poses.reshape((-1,3))\n",
    "\n",
    "plt.scatter(poses[:,0],poses[:,1], lw=3)\n",
    "plt.grid()\n",
    "plt.show()"
   ]
  },
  {
   "cell_type": "code",
   "execution_count": 52,
   "metadata": {},
   "outputs": [
    {
     "data": {
      "text/plain": [
       "array([[ 1.        ,  0.        ,  0.        ,  1.        ],\n",
       "       [ 0.        ,  0.99714724,  0.07548105,  0.        ],\n",
       "       [ 0.        , -0.07548105,  0.99714724,  0.        ],\n",
       "       [ 0.        ,  0.        ,  0.        ,  1.        ]])"
      ]
     },
     "execution_count": 52,
     "metadata": {},
     "output_type": "execute_result"
    }
   ],
   "source": [
    "propagated[0].T()"
   ]
  },
  {
   "cell_type": "code",
   "execution_count": null,
   "metadata": {},
   "outputs": [],
   "source": []
  }
 ],
 "metadata": {
  "kernelspec": {
   "display_name": "Python 3",
   "language": "python",
   "name": "python3"
  },
  "language_info": {
   "codemirror_mode": {
    "name": "ipython",
    "version": 3
   },
   "file_extension": ".py",
   "mimetype": "text/x-python",
   "name": "python",
   "nbconvert_exporter": "python",
   "pygments_lexer": "ipython3",
   "version": "3.6.10"
  }
 },
 "nbformat": 4,
 "nbformat_minor": 4
}
